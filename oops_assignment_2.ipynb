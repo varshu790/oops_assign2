{
  "nbformat": 4,
  "nbformat_minor": 0,
  "metadata": {
    "colab": {
      "provenance": []
    },
    "kernelspec": {
      "name": "python3",
      "display_name": "Python 3"
    },
    "language_info": {
      "name": "python"
    }
  },
  "cells": [
    {
      "cell_type": "markdown",
      "source": [
        "Q1. What is Abstraction in OOps? Explain with an example.\n",
        "\n",
        "ANS: Abstraction is the process of hiding the internal details of an application from the outer world. Abstraction is used to describe things in simple terms. It’s used to create a boundary between the application and the client programs."
      ],
      "metadata": {
        "id": "JQcFEgNgj5wo"
      }
    },
    {
      "cell_type": "code",
      "execution_count": 1,
      "metadata": {
        "id": "9ay3hepAj43r"
      },
      "outputs": [],
      "source": [
        "import abc\n",
        "class pwskills:\n",
        "  @abc.abstractclassmethod\n",
        "  def student_details(self):\n",
        "    pass\n",
        "  @abc.abstractclassmethod\n",
        "  def student_assignment(self):\n",
        "    pass\n",
        "  @abc.abstractclassmethod\n",
        "  def student_marks(self):\n",
        "    pass"
      ]
    },
    {
      "cell_type": "code",
      "source": [
        "class student_details(pwskills):\n",
        "\n",
        "  def students_details(self):\n",
        "    return \"this is a meth for taking students details \"\n",
        "\n",
        "  def student_assignment(self):\n",
        "    return \"thsi is a meth for assing details for a perticular student\""
      ],
      "metadata": {
        "id": "HFX6ocMjl6hf"
      },
      "execution_count": 2,
      "outputs": []
    },
    {
      "cell_type": "code",
      "source": [
        "class data_science_maters(pwskills):\n",
        "\n",
        "  def students_details(self):\n",
        "    return \"this will return a student deatils for data science masters\"\n",
        "\n",
        "  def students_assignment(self):\n",
        "    return \"this will give you a student assignment for data science masters\""
      ],
      "metadata": {
        "id": "S8_ZjuyBmGde"
      },
      "execution_count": 3,
      "outputs": []
    },
    {
      "cell_type": "code",
      "source": [
        "dsm = data_science_maters()\n",
        "dsm.students_details()"
      ],
      "metadata": {
        "colab": {
          "base_uri": "https://localhost:8080/",
          "height": 36
        },
        "id": "cZ4xQM-GmJ48",
        "outputId": "417b8ab7-b912-47a5-ea4f-a11aa342ae88"
      },
      "execution_count": 5,
      "outputs": [
        {
          "output_type": "execute_result",
          "data": {
            "text/plain": [
              "'this will return a student deatils for data science masters'"
            ],
            "application/vnd.google.colaboratory.intrinsic+json": {
              "type": "string"
            }
          },
          "metadata": {},
          "execution_count": 5
        }
      ]
    },
    {
      "cell_type": "markdown",
      "source": [
        "Q2. Differentiate between Abstraction and Encapsulation. Explain with an example.\n",
        "\n",
        "Ans: **Definition**\n",
        "\n",
        "***Abstraction*** is hiding the details and implementation of the code.\n",
        "\n",
        "**Encapsulation** is hiding the data and controlling the visibility of the code.\n",
        "\n",
        "**Phase**\n",
        "\n",
        "**Abstraction** is a design level process.\n",
        "**Encapsulation** is an implementation level process."
      ],
      "metadata": {
        "id": "znTYVP0amQ-1"
      }
    },
    {
      "cell_type": "code",
      "source": [
        "class Person:\n",
        "    def __init__(self):\n",
        "        self.name = \"Jack Matte\"\n",
        "\n",
        "    def bio(self):\n",
        "        self.addr = \"Bakers street, London\"\n",
        "        self.taxInfo = \"HUAPK29971\"\n",
        "        self.contact = \"01-777-523-342\"\n",
        "        print(self.addr, self.taxInfo, self.contact)\n",
        "\n",
        "    def interest(self):\n",
        "        self.favFood = \"Chinese\"\n",
        "        self.hobbies = \"Python Programming\"\n",
        "        self.bloodGroup = \"A+\"\n",
        "        print(self.favFood, self.hobbies, self.bloodGroup)\n",
        "\n",
        "obj = Person()\n",
        "print(obj.name)\n",
        "obj.bio()\n",
        "obj.interest()"
      ],
      "metadata": {
        "colab": {
          "base_uri": "https://localhost:8080/"
        },
        "id": "W_z6zSl7mKXm",
        "outputId": "44212d4a-b78b-438f-8bf1-8e15bb0a2bf1"
      },
      "execution_count": 6,
      "outputs": [
        {
          "output_type": "stream",
          "name": "stdout",
          "text": [
            "Jack Matte\n",
            "Bakers street, London HUAPK29971 01-777-523-342\n",
            "Chinese Python Programming A+\n"
          ]
        }
      ]
    },
    {
      "cell_type": "markdown",
      "source": [
        "Q3. What is abc module in python? Why is it used?\n",
        "\n",
        "Ans: Python has a module called abc (abstract base class) that offers the necessary tools for crafting an abstract base class.\n",
        "\n",
        "why it is used for:\n",
        "\n",
        "The 'abc' module in the Python library provides the infrastructure for defining custom abstract base classes. Abstract class cannot be instantiated in python. An Abstract method can be call by its subclasses"
      ],
      "metadata": {
        "id": "HRjMeCBunuWn"
      }
    },
    {
      "cell_type": "markdown",
      "source": [
        "Q4. How can we achieve data abstraction?\n",
        "\n",
        "We can achieve data abstraction through Abstract classes and interfaces. Through abstract classes, you can achieve partial or complete abstraction as abstract classes contain methods that have an implementation which can result in partial abstraction."
      ],
      "metadata": {
        "id": "_mBnMQgVocR-"
      }
    },
    {
      "cell_type": "markdown",
      "source": [
        "Q5. Can we create an instance of an abstract class? Explain your answer.\n",
        "\n",
        "Ans: Abstract classes are not complete, as they may have some methods that are not defined. So we cannot create an instance or object of an abstract class in Python. If we try to instantiate the abstract class, it raises an error."
      ],
      "metadata": {
        "id": "iMZ1i_2wouUi"
      }
    }
  ]
}